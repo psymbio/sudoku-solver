{
 "cells": [
  {
   "cell_type": "code",
   "execution_count": 1,
   "metadata": {},
   "outputs": [],
   "source": [
    "import os\n",
    "import cv2\n",
    "import numpy as np\n",
    "from pylab import *\n",
    "from PIL import Image\n",
    "from scipy import ndimage\n",
    "import glob\n",
    "import h5py\n",
    "from imutils import contours\n",
    "\n",
    "# https://docs.opencv.org/3.4/d2/dbd/tutorial_distance_transform.html\n",
    "from __future__ import print_function\n",
    "import argparse\n",
    "import random as rng\n",
    "\n",
    "import matplotlib.pyplot as plt\n",
    "import tensorflow as tf\n",
    "from tensorflow.keras.models import Sequential\n",
    "from tensorflow.keras.layers import Dense, Dropout, Activation, Flatten, Conv2D, MaxPooling2D\n",
    "from keras.layers.convolutional import Convolution2D, MaxPooling2D\n",
    "\n",
    "import pickle\n",
    "\n",
    "import copy"
   ]
  },
  {
   "cell_type": "code",
   "execution_count": 2,
   "metadata": {},
   "outputs": [],
   "source": [
    "def hougher(img):\n",
    "    gray=cv2.cvtColor(img,cv2.COLOR_BGR2GRAY)\n",
    "    dst = cv2.Canny(gray, 50, 100)\n",
    "    # change 100 to 200, so that diagonal isn't detected\n",
    "    lines= cv2.HoughLines(dst, 1, math.pi/180.0, 180, np.array([]), 0, 0)\n",
    "    a,b,c = lines.shape\n",
    "    for i in range(a):\n",
    "        rho = lines[i][0][0]\n",
    "        theta = lines[i][0][1]\n",
    "        a = math.cos(theta)\n",
    "        b = math.sin(theta)\n",
    "        x0, y0 = a*rho, b*rho\n",
    "        pt1 = ( int(x0+1000*(-b)), int(y0+1000*(a)) )\n",
    "        pt2 = ( int(x0-1000*(-b)), int(y0-1000*(a)) )\n",
    "        cv2.line(img, pt1, pt2, (0, 0, 255), 7, cv2.LINE_AA)\n",
    "    cv2.imwrite('houghed.jpg',img)"
   ]
  },
  {
   "cell_type": "code",
   "execution_count": 3,
   "metadata": {},
   "outputs": [],
   "source": [
    "def sort_contours(cnts, method=\"left-to-right\"):\n",
    "    reverse = False\n",
    "    i = 0\n",
    "    if method == \"right-to-left\" or method == \"bottom-to-top\":\n",
    "        reverse = True\n",
    "    if method == \"top-to-bottom\" or method == \"bottom-to-top\":\n",
    "        i = 1\n",
    "    boundingBoxes = [cv2.boundingRect(c) for c in cnts]\n",
    "    (cnts, boundingBoxes) = zip(*sorted(zip(cnts, boundingBoxes),\n",
    "        key=lambda b:b[1][i], reverse=reverse))\n",
    "    return (cnts, boundingBoxes)"
   ]
  },
  {
   "cell_type": "code",
   "execution_count": 4,
   "metadata": {},
   "outputs": [],
   "source": [
    "def squares(img):\n",
    "    gray = cv2.cvtColor(img, cv2.COLOR_BGR2GRAY)\n",
    "    blur = cv2.medianBlur(gray, 5)\n",
    "    sharpen_kernel = np.array([[-1,-1,-1], [-1,9,-1], [-1,-1,-1]])\n",
    "    sharpen = cv2.filter2D(blur, -1, sharpen_kernel)\n",
    "\n",
    "    thresh = cv2.threshold(sharpen,160,255, cv2.THRESH_BINARY_INV)[1]\n",
    "    kernel = cv2.getStructuringElement(cv2.MORPH_RECT, (3,3))\n",
    "    close = cv2.morphologyEx(thresh, cv2.MORPH_CLOSE, kernel, iterations=2)\n",
    "\n",
    "    cnts = cv2.findContours(close, cv2.RETR_CCOMP, cv2.CHAIN_APPROX_SIMPLE)\n",
    "    # (cnts, boundingBoxes) = sort_contours(cnts)\n",
    "    cnts = cnts[0] if len(cnts) == 2 else cnts[1]\n",
    "    img = cv2.drawContours(img, cnts, -1, (0,0,0), 3)\n",
    "    cv2.imwrite(\"con.jpg\", img)\n",
    "    min_area = 4000\n",
    "    max_area = 11000\n",
    "    image_number = 0\n",
    "    for c in cnts:\n",
    "        area = cv2.contourArea(c)\n",
    "        if area > min_area and area < max_area:\n",
    "            x,y,w,h = cv2.boundingRect(c)\n",
    "            ROI = img[y:y+h, x:x+w]\n",
    "            cv2.imwrite('81/boxes_{}.jpg'.format(str(80-image_number).zfill(2)), ROI)\n",
    "            cv2.rectangle(img, (x, y), (x + w, y + h), (0,0,0), 4)\n",
    "            image_number += 1"
   ]
  },
  {
   "cell_type": "code",
   "execution_count": 5,
   "metadata": {},
   "outputs": [],
   "source": [
    "file_path = 'gi.png'\n",
    "img = cv2.imread(file_path)\n",
    "img = cv2.resize(img, (900, 900))\n",
    "hougher(img)\n",
    "file_path = 'houghed.jpg'\n",
    "img = cv2.imread(file_path)\n",
    "img = cv2.resize(img, (900, 900))\n",
    "squares(img)"
   ]
  },
  {
   "cell_type": "code",
   "execution_count": 6,
   "metadata": {},
   "outputs": [],
   "source": [
    "def gray_all():\n",
    "    image_number = 0\n",
    "    for filepath in sorted(glob.iglob('81/*')):\n",
    "        img = cv2.imread(filepath)\n",
    "        img = cv2.resize(img, (28, 28))\n",
    "        cv2.imwrite('81/boxes_{}.jpg'.format(str(80-image_number).zfill(2)), img)\n",
    "        image_number += 1"
   ]
  },
  {
   "cell_type": "code",
   "execution_count": 7,
   "metadata": {},
   "outputs": [],
   "source": [
    "# gray_all()"
   ]
  },
  {
   "cell_type": "code",
   "execution_count": 8,
   "metadata": {},
   "outputs": [],
   "source": [
    "data_dir = \"/home/vanillaskies/projects/computer-science/python/sudoku/training/\"\n",
    "categories = [\"0\", \"1\", \"2\", \"3\", \"4\", \"5\", \"6\", \"7\", \"8\", \"9\"]"
   ]
  },
  {
   "cell_type": "code",
   "execution_count": 9,
   "metadata": {},
   "outputs": [],
   "source": [
    "training_data = []\n",
    "def create_training_data():\n",
    "    for category in categories:\n",
    "        path = os.path.join(data_dir, category)\n",
    "        class_num = categories.index(category)\n",
    "        for img in os.listdir(path):\n",
    "                img = cv2.imread(os.path.join(path, img))\n",
    "                training_data.append([img, class_num])"
   ]
  },
  {
   "cell_type": "code",
   "execution_count": 10,
   "metadata": {},
   "outputs": [
    {
     "name": "stdout",
     "output_type": "stream",
     "text": [
      "2163\n"
     ]
    }
   ],
   "source": [
    "create_training_data()\n",
    "print(len(training_data)) # should be number of images in training folder"
   ]
  },
  {
   "cell_type": "code",
   "execution_count": 11,
   "metadata": {},
   "outputs": [],
   "source": [
    "import random\n",
    "random.shuffle(training_data)\n",
    "X = []\n",
    "y = []"
   ]
  },
  {
   "cell_type": "code",
   "execution_count": 12,
   "metadata": {},
   "outputs": [],
   "source": [
    "for features, label in training_data:\n",
    "    X.append(features)\n",
    "    y.append(label)"
   ]
  },
  {
   "cell_type": "code",
   "execution_count": 13,
   "metadata": {},
   "outputs": [],
   "source": [
    "X = np.array(X)\n",
    "X=np.array(X/255.0)\n",
    "y=np.array(y)"
   ]
  },
  {
   "cell_type": "code",
   "execution_count": 14,
   "metadata": {},
   "outputs": [],
   "source": [
    "pickle_out = open(\"X.pickle\", \"wb\")\n",
    "pickle.dump(X, pickle_out)\n",
    "pickle_out.close()\n",
    "\n",
    "pickle_out = open(\"y.pickle\", \"wb\")\n",
    "pickle.dump(y, pickle_out)\n",
    "pickle_out.close()"
   ]
  },
  {
   "cell_type": "code",
   "execution_count": 15,
   "metadata": {},
   "outputs": [],
   "source": [
    "pickle_in = open(\"X.pickle\", \"rb\")\n",
    "X = pickle.load(pickle_in)\n",
    "\n",
    "pickle_in = open(\"y.pickle\", \"rb\")\n",
    "y = pickle.load(pickle_in)"
   ]
  },
  {
   "cell_type": "code",
   "execution_count": 16,
   "metadata": {},
   "outputs": [
    {
     "name": "stdout",
     "output_type": "stream",
     "text": [
      "Epoch 1/40\n",
      "6/6 [==============================] - 21s 3s/step - loss: 2.2677 - accuracy: 0.1521 - val_loss: 2.2026 - val_accuracy: 0.2419\n",
      "Epoch 2/40\n",
      "6/6 [==============================] - 10s 2s/step - loss: 2.1082 - accuracy: 0.2469 - val_loss: 1.9137 - val_accuracy: 0.2327\n",
      "Epoch 3/40\n",
      "6/6 [==============================] - 8s 1s/step - loss: 1.8642 - accuracy: 0.2691 - val_loss: 1.7222 - val_accuracy: 0.3914\n",
      "Epoch 4/40\n",
      "6/6 [==============================] - 9s 2s/step - loss: 1.6943 - accuracy: 0.3840 - val_loss: 1.5450 - val_accuracy: 0.4530\n",
      "Epoch 5/40\n",
      "6/6 [==============================] - 14s 2s/step - loss: 1.4862 - accuracy: 0.4842 - val_loss: 1.3360 - val_accuracy: 0.6148\n",
      "Epoch 6/40\n",
      "6/6 [==============================] - 9s 2s/step - loss: 1.2544 - accuracy: 0.6475 - val_loss: 1.1758 - val_accuracy: 0.6810\n",
      "Epoch 7/40\n",
      "6/6 [==============================] - 8s 1s/step - loss: 1.0588 - accuracy: 0.7112 - val_loss: 0.9418 - val_accuracy: 0.7319\n",
      "Epoch 8/40\n",
      "6/6 [==============================] - 8s 1s/step - loss: 0.8344 - accuracy: 0.7794 - val_loss: 0.8208 - val_accuracy: 0.7581\n",
      "Epoch 9/40\n",
      "6/6 [==============================] - 10s 2s/step - loss: 0.6982 - accuracy: 0.8082 - val_loss: 0.6730 - val_accuracy: 0.7951\n",
      "Epoch 10/40\n",
      "6/6 [==============================] - 13s 2s/step - loss: 0.5316 - accuracy: 0.8389 - val_loss: 0.5194 - val_accuracy: 0.8182\n",
      "Epoch 11/40\n",
      "6/6 [==============================] - 13s 2s/step - loss: 0.4166 - accuracy: 0.8612 - val_loss: 0.4444 - val_accuracy: 0.8382\n",
      "Epoch 12/40\n",
      "6/6 [==============================] - 14s 2s/step - loss: 0.3303 - accuracy: 0.8711 - val_loss: 0.3443 - val_accuracy: 0.8767\n",
      "Epoch 13/40\n",
      "6/6 [==============================] - 15s 2s/step - loss: 0.2543 - accuracy: 0.9241 - val_loss: 0.3059 - val_accuracy: 0.9137\n",
      "Epoch 14/40\n",
      "6/6 [==============================] - 15s 3s/step - loss: 0.1956 - accuracy: 0.9520 - val_loss: 0.1865 - val_accuracy: 0.9553\n",
      "Epoch 15/40\n",
      "6/6 [==============================] - 16s 3s/step - loss: 0.1015 - accuracy: 0.9770 - val_loss: 0.1451 - val_accuracy: 0.9692\n",
      "Epoch 16/40\n",
      "6/6 [==============================] - 13s 2s/step - loss: 0.0781 - accuracy: 0.9871 - val_loss: 0.1149 - val_accuracy: 0.9707\n",
      "Epoch 17/40\n",
      "6/6 [==============================] - 9s 2s/step - loss: 0.0560 - accuracy: 0.9866 - val_loss: 0.1080 - val_accuracy: 0.9800\n",
      "Epoch 18/40\n",
      "6/6 [==============================] - 8s 1s/step - loss: 0.0414 - accuracy: 0.9965 - val_loss: 0.0857 - val_accuracy: 0.9846\n",
      "Epoch 19/40\n",
      "6/6 [==============================] - 7s 1s/step - loss: 0.0284 - accuracy: 0.9964 - val_loss: 0.0711 - val_accuracy: 0.9815\n",
      "Epoch 20/40\n",
      "6/6 [==============================] - 9s 2s/step - loss: 0.0220 - accuracy: 0.9978 - val_loss: 0.0725 - val_accuracy: 0.9877\n",
      "Epoch 21/40\n",
      "6/6 [==============================] - 9s 2s/step - loss: 0.0190 - accuracy: 0.9994 - val_loss: 0.0735 - val_accuracy: 0.9846\n",
      "Epoch 22/40\n",
      "6/6 [==============================] - 7s 1s/step - loss: 0.0168 - accuracy: 0.9989 - val_loss: 0.0673 - val_accuracy: 0.9861\n",
      "Epoch 23/40\n",
      "6/6 [==============================] - 6s 983ms/step - loss: 0.0119 - accuracy: 0.9985 - val_loss: 0.0682 - val_accuracy: 0.9846\n",
      "Epoch 24/40\n",
      "6/6 [==============================] - 7s 1s/step - loss: 0.0107 - accuracy: 1.0000 - val_loss: 0.0620 - val_accuracy: 0.9877\n",
      "Epoch 25/40\n",
      "6/6 [==============================] - 8s 1s/step - loss: 0.0076 - accuracy: 1.0000 - val_loss: 0.0701 - val_accuracy: 0.9831\n",
      "Epoch 26/40\n",
      "6/6 [==============================] - 7s 1s/step - loss: 0.0071 - accuracy: 1.0000 - val_loss: 0.0648 - val_accuracy: 0.9861\n",
      "Epoch 27/40\n",
      "6/6 [==============================] - 6s 1s/step - loss: 0.0065 - accuracy: 1.0000 - val_loss: 0.0657 - val_accuracy: 0.9877\n",
      "Epoch 28/40\n",
      "6/6 [==============================] - 7s 1s/step - loss: 0.0047 - accuracy: 1.0000 - val_loss: 0.0657 - val_accuracy: 0.9861\n",
      "Epoch 29/40\n",
      "6/6 [==============================] - 6s 983ms/step - loss: 0.0046 - accuracy: 1.0000 - val_loss: 0.0655 - val_accuracy: 0.9861\n",
      "Epoch 30/40\n",
      "6/6 [==============================] - 7s 1s/step - loss: 0.0040 - accuracy: 1.0000 - val_loss: 0.0659 - val_accuracy: 0.9861\n",
      "Epoch 31/40\n",
      "6/6 [==============================] - 6s 1s/step - loss: 0.0043 - accuracy: 1.0000 - val_loss: 0.0683 - val_accuracy: 0.9846\n",
      "Epoch 32/40\n",
      "6/6 [==============================] - 6s 946ms/step - loss: 0.0041 - accuracy: 1.0000 - val_loss: 0.0653 - val_accuracy: 0.9861\n",
      "Epoch 33/40\n",
      "6/6 [==============================] - 7s 1s/step - loss: 0.0034 - accuracy: 1.0000 - val_loss: 0.0684 - val_accuracy: 0.9861\n",
      "Epoch 34/40\n",
      "6/6 [==============================] - 5s 920ms/step - loss: 0.0032 - accuracy: 1.0000 - val_loss: 0.0717 - val_accuracy: 0.9846\n",
      "Epoch 35/40\n",
      "6/6 [==============================] - 6s 1s/step - loss: 0.0032 - accuracy: 1.0000 - val_loss: 0.0637 - val_accuracy: 0.9877\n",
      "Epoch 36/40\n",
      "6/6 [==============================] - 6s 940ms/step - loss: 0.0033 - accuracy: 1.0000 - val_loss: 0.0688 - val_accuracy: 0.9861\n",
      "Epoch 37/40\n",
      "6/6 [==============================] - 7s 1s/step - loss: 0.0029 - accuracy: 1.0000 - val_loss: 0.0699 - val_accuracy: 0.9846\n",
      "Epoch 38/40\n",
      "6/6 [==============================] - 8s 1s/step - loss: 0.0026 - accuracy: 1.0000 - val_loss: 0.0685 - val_accuracy: 0.9861\n",
      "Epoch 39/40\n",
      "6/6 [==============================] - 6s 1s/step - loss: 0.0022 - accuracy: 1.0000 - val_loss: 0.0692 - val_accuracy: 0.9861\n",
      "Epoch 40/40\n",
      "6/6 [==============================] - 7s 1s/step - loss: 0.0022 - accuracy: 1.0000 - val_loss: 0.0708 - val_accuracy: 0.9846\n"
     ]
    },
    {
     "data": {
      "text/plain": [
       "<tensorflow.python.keras.callbacks.History at 0x7fdea85c9400>"
      ]
     },
     "execution_count": 16,
     "metadata": {},
     "output_type": "execute_result"
    }
   ],
   "source": [
    "# X.reshape(list(X.shape) + [1])\n",
    "model = Sequential()\n",
    "# https://www.geeksforgeeks.org/keras-conv2d-class/\n",
    "model.add(Conv2D(64, (5,5), input_shape = X.shape[1:]))\n",
    "model.add(Activation(\"relu\"))\n",
    "# https://machinelearningmastery.com/pooling-layers-for-convolutional-neural-networks/\n",
    "model.add(MaxPooling2D(pool_size=(2,2)))\n",
    "\n",
    "model.add(Conv2D(64, (5, 5)))\n",
    "model.add(Activation('relu'))\n",
    "model.add(MaxPooling2D(pool_size=(2, 2)))\n",
    "\n",
    "model.add(Flatten())  # this converts our 3D feature maps to 1D feature vectors\n",
    "model.add(Dense(64))\n",
    "\n",
    "model.add(Dense(32))\n",
    "model.add(Activation('relu'))\n",
    "\n",
    "model.add(Dense(16))\n",
    "model.add(Activation('relu'))\n",
    "\n",
    "model.add(Dense(10))\n",
    "model.add(Activation('softmax'))\n",
    "\n",
    "# https://gombru.github.io/2018/05/23/cross_entropy_loss/\n",
    "# https://keras.io/api/losses/probabilistic_losses/#categoricalcrossentropy-class\n",
    "# https://github.com/anujshah1003/own_data_cnn_implementation_keras/blob/master/custom_data_cnn.py\n",
    "\n",
    "model.compile(loss='sparse_categorical_crossentropy',\n",
    "              optimizer='adam',\n",
    "              metrics=['accuracy'])\n",
    "\n",
    "model.fit(X, y, batch_size=256, epochs=40, validation_split=0.3)"
   ]
  },
  {
   "cell_type": "code",
   "execution_count": 17,
   "metadata": {},
   "outputs": [],
   "source": [
    "num_data_dir = \"/home/vanillaskies/projects/computer-science/python/sudoku/81/\"\n",
    "def pic_to_sudoku(num_data_dir):\n",
    "    sudoku = \"\"\n",
    "    for img in sorted(os.listdir(num_data_dir)):\n",
    "        print(os.path.join(num_data_dir, img))\n",
    "        img = cv2.imread(os.path.join(num_data_dir, img))\n",
    "        img = cv2.resize(img, (28, 28))\n",
    "        test_image = np.array(img).astype('float32')\n",
    "        test_image = np.expand_dims(test_image, axis=0)/255\n",
    "        test_image = tf.image.resize_with_pad(test_image, 28, 28)\n",
    "        f = model.predict(test_image)\n",
    "        index = np.argmax(f)\n",
    "        g = index.item()\n",
    "        g = f'{g}'\n",
    "        sudoku += g\n",
    "    return sudoku"
   ]
  },
  {
   "cell_type": "code",
   "execution_count": 18,
   "metadata": {},
   "outputs": [
    {
     "name": "stdout",
     "output_type": "stream",
     "text": [
      "/home/vanillaskies/projects/computer-science/python/sudoku/81/boxes_00.jpg\n",
      "/home/vanillaskies/projects/computer-science/python/sudoku/81/boxes_01.jpg\n",
      "/home/vanillaskies/projects/computer-science/python/sudoku/81/boxes_02.jpg\n",
      "/home/vanillaskies/projects/computer-science/python/sudoku/81/boxes_03.jpg\n",
      "/home/vanillaskies/projects/computer-science/python/sudoku/81/boxes_04.jpg\n",
      "/home/vanillaskies/projects/computer-science/python/sudoku/81/boxes_05.jpg\n",
      "/home/vanillaskies/projects/computer-science/python/sudoku/81/boxes_06.jpg\n",
      "/home/vanillaskies/projects/computer-science/python/sudoku/81/boxes_07.jpg\n",
      "/home/vanillaskies/projects/computer-science/python/sudoku/81/boxes_08.jpg\n",
      "/home/vanillaskies/projects/computer-science/python/sudoku/81/boxes_09.jpg\n",
      "/home/vanillaskies/projects/computer-science/python/sudoku/81/boxes_10.jpg\n",
      "/home/vanillaskies/projects/computer-science/python/sudoku/81/boxes_11.jpg\n",
      "/home/vanillaskies/projects/computer-science/python/sudoku/81/boxes_12.jpg\n",
      "/home/vanillaskies/projects/computer-science/python/sudoku/81/boxes_13.jpg\n",
      "/home/vanillaskies/projects/computer-science/python/sudoku/81/boxes_14.jpg\n",
      "/home/vanillaskies/projects/computer-science/python/sudoku/81/boxes_15.jpg\n",
      "/home/vanillaskies/projects/computer-science/python/sudoku/81/boxes_16.jpg\n",
      "/home/vanillaskies/projects/computer-science/python/sudoku/81/boxes_17.jpg\n",
      "/home/vanillaskies/projects/computer-science/python/sudoku/81/boxes_18.jpg\n",
      "/home/vanillaskies/projects/computer-science/python/sudoku/81/boxes_19.jpg\n",
      "/home/vanillaskies/projects/computer-science/python/sudoku/81/boxes_20.jpg\n",
      "/home/vanillaskies/projects/computer-science/python/sudoku/81/boxes_21.jpg\n",
      "/home/vanillaskies/projects/computer-science/python/sudoku/81/boxes_22.jpg\n",
      "/home/vanillaskies/projects/computer-science/python/sudoku/81/boxes_23.jpg\n",
      "/home/vanillaskies/projects/computer-science/python/sudoku/81/boxes_24.jpg\n",
      "/home/vanillaskies/projects/computer-science/python/sudoku/81/boxes_25.jpg\n",
      "/home/vanillaskies/projects/computer-science/python/sudoku/81/boxes_26.jpg\n",
      "/home/vanillaskies/projects/computer-science/python/sudoku/81/boxes_27.jpg\n",
      "/home/vanillaskies/projects/computer-science/python/sudoku/81/boxes_28.jpg\n",
      "/home/vanillaskies/projects/computer-science/python/sudoku/81/boxes_29.jpg\n",
      "/home/vanillaskies/projects/computer-science/python/sudoku/81/boxes_30.jpg\n",
      "/home/vanillaskies/projects/computer-science/python/sudoku/81/boxes_31.jpg\n",
      "/home/vanillaskies/projects/computer-science/python/sudoku/81/boxes_32.jpg\n",
      "/home/vanillaskies/projects/computer-science/python/sudoku/81/boxes_33.jpg\n",
      "/home/vanillaskies/projects/computer-science/python/sudoku/81/boxes_34.jpg\n",
      "/home/vanillaskies/projects/computer-science/python/sudoku/81/boxes_35.jpg\n",
      "/home/vanillaskies/projects/computer-science/python/sudoku/81/boxes_36.jpg\n",
      "/home/vanillaskies/projects/computer-science/python/sudoku/81/boxes_37.jpg\n",
      "/home/vanillaskies/projects/computer-science/python/sudoku/81/boxes_38.jpg\n",
      "/home/vanillaskies/projects/computer-science/python/sudoku/81/boxes_39.jpg\n",
      "/home/vanillaskies/projects/computer-science/python/sudoku/81/boxes_40.jpg\n",
      "/home/vanillaskies/projects/computer-science/python/sudoku/81/boxes_41.jpg\n",
      "/home/vanillaskies/projects/computer-science/python/sudoku/81/boxes_42.jpg\n",
      "/home/vanillaskies/projects/computer-science/python/sudoku/81/boxes_43.jpg\n",
      "/home/vanillaskies/projects/computer-science/python/sudoku/81/boxes_44.jpg\n",
      "/home/vanillaskies/projects/computer-science/python/sudoku/81/boxes_45.jpg\n",
      "/home/vanillaskies/projects/computer-science/python/sudoku/81/boxes_46.jpg\n",
      "/home/vanillaskies/projects/computer-science/python/sudoku/81/boxes_47.jpg\n",
      "/home/vanillaskies/projects/computer-science/python/sudoku/81/boxes_48.jpg\n",
      "/home/vanillaskies/projects/computer-science/python/sudoku/81/boxes_49.jpg\n",
      "/home/vanillaskies/projects/computer-science/python/sudoku/81/boxes_50.jpg\n",
      "/home/vanillaskies/projects/computer-science/python/sudoku/81/boxes_51.jpg\n",
      "/home/vanillaskies/projects/computer-science/python/sudoku/81/boxes_52.jpg\n",
      "/home/vanillaskies/projects/computer-science/python/sudoku/81/boxes_53.jpg\n",
      "/home/vanillaskies/projects/computer-science/python/sudoku/81/boxes_54.jpg\n",
      "/home/vanillaskies/projects/computer-science/python/sudoku/81/boxes_55.jpg\n",
      "/home/vanillaskies/projects/computer-science/python/sudoku/81/boxes_56.jpg\n",
      "/home/vanillaskies/projects/computer-science/python/sudoku/81/boxes_57.jpg\n",
      "/home/vanillaskies/projects/computer-science/python/sudoku/81/boxes_58.jpg\n",
      "/home/vanillaskies/projects/computer-science/python/sudoku/81/boxes_59.jpg\n",
      "/home/vanillaskies/projects/computer-science/python/sudoku/81/boxes_60.jpg\n",
      "/home/vanillaskies/projects/computer-science/python/sudoku/81/boxes_61.jpg\n",
      "/home/vanillaskies/projects/computer-science/python/sudoku/81/boxes_62.jpg\n",
      "/home/vanillaskies/projects/computer-science/python/sudoku/81/boxes_63.jpg\n",
      "/home/vanillaskies/projects/computer-science/python/sudoku/81/boxes_64.jpg\n",
      "/home/vanillaskies/projects/computer-science/python/sudoku/81/boxes_65.jpg\n",
      "/home/vanillaskies/projects/computer-science/python/sudoku/81/boxes_66.jpg\n",
      "/home/vanillaskies/projects/computer-science/python/sudoku/81/boxes_67.jpg\n",
      "/home/vanillaskies/projects/computer-science/python/sudoku/81/boxes_68.jpg\n",
      "/home/vanillaskies/projects/computer-science/python/sudoku/81/boxes_69.jpg\n",
      "/home/vanillaskies/projects/computer-science/python/sudoku/81/boxes_70.jpg\n",
      "/home/vanillaskies/projects/computer-science/python/sudoku/81/boxes_71.jpg\n",
      "/home/vanillaskies/projects/computer-science/python/sudoku/81/boxes_72.jpg\n",
      "/home/vanillaskies/projects/computer-science/python/sudoku/81/boxes_73.jpg\n",
      "/home/vanillaskies/projects/computer-science/python/sudoku/81/boxes_74.jpg\n",
      "/home/vanillaskies/projects/computer-science/python/sudoku/81/boxes_75.jpg\n",
      "/home/vanillaskies/projects/computer-science/python/sudoku/81/boxes_76.jpg\n",
      "/home/vanillaskies/projects/computer-science/python/sudoku/81/boxes_77.jpg\n",
      "/home/vanillaskies/projects/computer-science/python/sudoku/81/boxes_78.jpg\n",
      "/home/vanillaskies/projects/computer-science/python/sudoku/81/boxes_79.jpg\n",
      "/home/vanillaskies/projects/computer-science/python/sudoku/81/boxes_80.jpg\n"
     ]
    },
    {
     "data": {
      "text/plain": [
       "'489501020750000810000020594008090075500008000001003000160374082000005736003062450'"
      ]
     },
     "execution_count": 18,
     "metadata": {},
     "output_type": "execute_result"
    }
   ],
   "source": [
    "puzzle = pic_to_sudoku(num_data_dir)\n",
    "puzzle"
   ]
  },
  {
   "cell_type": "code",
   "execution_count": 19,
   "metadata": {},
   "outputs": [
    {
     "data": {
      "text/plain": [
       "81"
      ]
     },
     "execution_count": 19,
     "metadata": {},
     "output_type": "execute_result"
    }
   ],
   "source": [
    "len(puzzle)"
   ]
  },
  {
   "cell_type": "code",
   "execution_count": 20,
   "metadata": {},
   "outputs": [
    {
     "name": "stdout",
     "output_type": "stream",
     "text": [
      "INFO:tensorflow:Assets written to: savehere/assets\n"
     ]
    }
   ],
   "source": [
    "model.save('savehere')"
   ]
  },
  {
   "cell_type": "code",
   "execution_count": 21,
   "metadata": {},
   "outputs": [],
   "source": [
    "def hough_sudoku(img):\n",
    "    gray=cv2.cvtColor(img,cv2.COLOR_BGR2GRAY)\n",
    "    dst = cv2.Canny(gray, 50, 100)\n",
    "    # change 100 to 200, so that diagonal isn't detected\n",
    "    kernel = np.ones((5,5),np.uint8)\n",
    "    erosion = cv2.erode(dst,kernel,iterations = 1)\n",
    "    lines= cv2.HoughLines(dst, 1, math.pi/180.0, 180, np.array([]), 0, 0)\n",
    "    a,b,c = lines.shape\n",
    "    for i in range(a):\n",
    "        rho = lines[i][0][0]\n",
    "        theta = lines[i][0][1]\n",
    "        a = math.cos(theta)\n",
    "        b = math.sin(theta)\n",
    "        x0, y0 = a*rho, b*rho\n",
    "        pt1 = ( int(x0+1000*(-b)), int(y0+1000*(a)) )\n",
    "        pt2 = ( int(x0-1000*(-b)), int(y0-1000*(a)) )\n",
    "        cv2.line(img, pt1, pt2, (0, 0, 255), 7, cv2.LINE_AA)\n",
    "    cv2.imwrite('find.jpg',img)"
   ]
  },
  {
   "cell_type": "code",
   "execution_count": 22,
   "metadata": {},
   "outputs": [],
   "source": [
    "def find_sudoku(img):\n",
    "    gray = cv2.cvtColor(img, cv2.COLOR_BGR2GRAY)\n",
    "    blur = cv2.medianBlur(gray, 5)\n",
    "    sharpen_kernel = np.array([[-1,-1,-1], [-1,9,-1], [-1,-1,-1]])\n",
    "    sharpen = cv2.filter2D(blur, -1, sharpen_kernel)\n",
    "\n",
    "    thresh = cv2.threshold(sharpen,160,255, cv2.THRESH_BINARY_INV)[1]\n",
    "    kernel = cv2.getStructuringElement(cv2.MORPH_RECT, (3,3))\n",
    "    close = cv2.morphologyEx(thresh, cv2.MORPH_CLOSE, kernel, iterations=2)\n",
    "\n",
    "    cnts = cv2.findContours(close, cv2.RETR_TREE, cv2.CHAIN_APPROX_SIMPLE)\n",
    "    cnts = cnts[0] if len(cnts) == 2 else cnts[1]\n",
    "    img = cv2.drawContours(img, cnts, -1, (0,0,0), 3)\n",
    "    # cv2.imwrite(\"con.jpg\", img)\n",
    "    min_area = 40500\n",
    "    max_area = 810000\n",
    "    image_number = 0\n",
    "    \n",
    "    for c in cnts:\n",
    "        area = cv2.contourArea(c)\n",
    "        if area > min_area and area < max_area:\n",
    "            x,y,w,h = cv2.boundingRect(c)\n",
    "            ROI = img[y:y+h, x:x+h]\n",
    "            cv2.imwrite('cropped.jpg'.format(str(80-image_number).zfill(2)), ROI)\n",
    "            cv2.rectangle(img, (x, y), (x + w, y + h), (36,255,12), 2)\n",
    "            image_number += 1"
   ]
  },
  {
   "cell_type": "code",
   "execution_count": 23,
   "metadata": {},
   "outputs": [],
   "source": [
    "file_path = '6.png'\n",
    "img = cv2.imread(file_path)\n",
    "# img = cv2.resize(img, (900, 900))\n",
    "hough_sudoku(img)\n",
    "file_path = 'find.jpg'\n",
    "img = cv2.imread(file_path)\n",
    "# img = cv2.resize(img, (900, 900))\n",
    "find_sudoku(img)"
   ]
  },
  {
   "cell_type": "code",
   "execution_count": 24,
   "metadata": {},
   "outputs": [],
   "source": [
    "def same_row(i,j): return (i/9 == j/9)\n",
    "def same_col(i,j): return (i-j) % 9 == 0\n",
    "def same_block(i,j): return (i/27 == j/27 and i%9/3 == j%9/3)\n",
    "\n",
    "def r(a):\n",
    "    printed = 0\n",
    "    i = a.find('0')\n",
    "    if i == -1 and printed == 0:\n",
    "        print(a)\n",
    "        printed = 1\n",
    "\n",
    "    excluded_numbers = set()\n",
    "    for j in range(81):\n",
    "        if same_row(i,j) or same_col(i,j) or same_block(i,j):\n",
    "          excluded_numbers.add(a[j])\n",
    "\n",
    "    for m in '123456789':\n",
    "        if m not in excluded_numbers:\n",
    "            r(a[:i]+m+a[i+1:])"
   ]
  },
  {
   "cell_type": "code",
   "execution_count": 25,
   "metadata": {},
   "outputs": [],
   "source": [
    "# r(puzzle)"
   ]
  },
  {
   "cell_type": "code",
   "execution_count": 26,
   "metadata": {},
   "outputs": [
    {
     "ename": "SyntaxError",
     "evalue": "invalid syntax (<ipython-input-26-d28c1dc1d589>, line 15)",
     "output_type": "error",
     "traceback": [
      "\u001b[0;36m  File \u001b[0;32m\"<ipython-input-26-d28c1dc1d589>\"\u001b[0;36m, line \u001b[0;32m15\u001b[0m\n\u001b[0;31m    print array(soln).reshape(9, 9)\u001b[0m\n\u001b[0m          ^\u001b[0m\n\u001b[0;31mSyntaxError\u001b[0m\u001b[0;31m:\u001b[0m invalid syntax\n"
     ]
    }
   ],
   "source": [
    "def same_row(i,j): return (i/9 == j/9)\n",
    "def same_col(i,j): return (i-j) % 9 == 0\n",
    "def same_block(i,j): return (i/27 == j/27 and i%9/3 == j%9/3)\n",
    "\n",
    "# function that solves a sudoku puzzle\n",
    "#   Ref(s):\n",
    "#   http://stackoverflow.com/questions/201461/shortest-sudoku-solver-in-python-how-does-it-work\n",
    "def solve_puzzle(a):\n",
    "    i = a.find('0')\n",
    "    if i == -1:\n",
    "        # puzzle is solved, format the output\n",
    "        soln = []\n",
    "        for j in range(81):\n",
    "            soln.append(int(a[j]))\n",
    "        print array(soln).reshape(9, 9)\n",
    "        return\n",
    "        \n",
    "    # determine any excluded numbers\n",
    "    excluded_numbers = set()\n",
    "    for j in range(81):\n",
    "        if same_row(i,j) or same_col(i,j) or same_block(i,j):\n",
    "            excluded_numbers.add(a[j])\n",
    "\n",
    "    for m in '123456789':\n",
    "        if m not in excluded_numbers:\n",
    "            # At this point, m is not excluded by any row, column, or block, so let's place it and recurse\n",
    "            solve_puzzle(a[:i]+m+a[i+1:])"
   ]
  },
  {
   "cell_type": "code",
   "execution_count": null,
   "metadata": {},
   "outputs": [],
   "source": [
    "def splitBoxes(img):\n",
    "    rows = np.vsplit(img, 9)\n",
    "    boxes = []\n",
    "    for r in rows:\n",
    "        cols = np.hsplit(r, 9)\n",
    "        for box in cols:\n",
    "            boxes.append(box)\n",
    "    return boxes"
   ]
  },
  {
   "cell_type": "code",
   "execution_count": null,
   "metadata": {},
   "outputs": [],
   "source": [
    "file_path = '75.png'\n",
    "img = cv2.imread(file_path)\n",
    "img = cv2.resize(img, (900, 900))\n",
    "hougher(img)\n",
    "file_path = 'houghed.jpg'\n",
    "img = cv2.imread(file_path)\n",
    "boxes = splitBoxes(img)\n",
    "plt.imshow(boxes[0][0])"
   ]
  },
  {
   "cell_type": "code",
   "execution_count": 27,
   "metadata": {},
   "outputs": [
    {
     "data": {
      "text/plain": [
       "'489501020750000810000020594008090075500008000001003000160374082000005736003062450'"
      ]
     },
     "execution_count": 27,
     "metadata": {},
     "output_type": "execute_result"
    }
   ],
   "source": [
    "puzzle"
   ]
  },
  {
   "cell_type": "code",
   "execution_count": null,
   "metadata": {},
   "outputs": [],
   "source": []
  }
 ],
 "metadata": {
  "kernelspec": {
   "display_name": "Python 3",
   "language": "python",
   "name": "python3"
  },
  "language_info": {
   "codemirror_mode": {
    "name": "ipython",
    "version": 3
   },
   "file_extension": ".py",
   "mimetype": "text/x-python",
   "name": "python",
   "nbconvert_exporter": "python",
   "pygments_lexer": "ipython3",
   "version": "3.8.2"
  }
 },
 "nbformat": 4,
 "nbformat_minor": 4
}
